{
 "cells": [
  {
   "cell_type": "markdown",
   "id": "5013b251",
   "metadata": {},
   "source": [
    "# Jupyter Notebook - Metering Data Analysis Using SQLite\n",
    "\n",
    "## 📌 Metering Data Analysis Using Python & SQLite\n",
    "\n",
    "## **1️⃣ Introduction**"
   ]
  },
  {
   "cell_type": "markdown",
   "id": "23a1edfc",
   "metadata": {},
   "source": [
    "### **Problem Statement**\n",
    "In the power distribution industry, effective metering and billing analysis is crucial for monitoring \n",
    "energy consumption, reducing losses, and improving revenue collection. This analysis aims to:\n",
    "- Extract and analyze **smart meter data** to gain insights into energy usage.\n",
    "- Store and query the data efficiently using **SQLite**.\n",
    "- Perform **data-driven reporting** to support decision-making.\n",
    "\n",
    "### **Why Use SQLite?**\n",
    "- No need to configure a database server.\n",
    "- Stores data in a single `.db` file.\n",
    "- Fast and easy to use with Python.\n",
    "\n",
    "### **Dataset Overview**\n",
    "We are using the **Low Carbon London Smart Meter dataset**, which contains millions of smart meter readings.\n",
    "The dataset includes:\n",
    "- **Household ID** (`LCLid`) – Unique identifier for each household\n",
    "- **Tariff Type** (`stdorToU`) – Type of electricity tariff (Standard or Time-of-Use)\n",
    "- **Timestamp** (`DateTime`) – Date & Time of meter reading\n",
    "- **Meter Reading (kWh)** (`KWH/hh (per half hour)`) – Energy consumption per half-hour interval\n",
    "\n",
    "\n",
    "### **Dataset Source**\n",
    "<!-- - **File Path**: `\"C:\\Users\\ginika.umego\\Downloads\\CC_LCL-FullData.csv\"` -->\n",
    "- **File Path**: `os.getenv(\"FULL_DATA_PATH\")`\n",
    "- **Size**: 167 million rows (too large for Jupyter)\n",
    "- **Solution**: Extract a **2 million record sample** for analysis."
   ]
  },
  {
   "cell_type": "markdown",
   "id": "fb5e818c",
   "metadata": {},
   "source": [
    "## **2️⃣ Extracting a 2 Million Record Sample**"
   ]
  },
  {
   "cell_type": "code",
   "execution_count": 1,
   "id": "9631d9df",
   "metadata": {},
   "outputs": [
    {
     "name": "stdout",
     "output_type": "stream",
     "text": [
      "File Size: 8,542,818,238 bytes\n"
     ]
    }
   ],
   "source": [
    "import pandas as pd\n",
    "import os\n",
    "from dotenv import load_dotenv\n",
    "\n",
    "load_dotenv()\n",
    "\n",
    "# Define file paths\n",
    "\n",
    "full_data_path = os.getenv(\"FULL_DATA_PATH\")\n",
    "sample_data_path = os.getenv(\"SAMPLE_DATA_PATH\")\n",
    "\n",
    "#full_data_path = r\"C:\\Users\\ginika.umego\\Downloads\\CC_LCL-FullData.csv\"\n",
    "#sample_data_path = r\"C:\\Users\\ginika.umego\\Downloads\\CC_LCL-Sample.csv\"\n",
    "\n",
    "print(f\"File Size: {os.path.getsize(full_data_path):,} bytes\")"
   ]
  },
  {
   "cell_type": "code",
   "execution_count": 2,
   "id": "3a0bf2f8",
   "metadata": {},
   "outputs": [
    {
     "name": "stdout",
     "output_type": "stream",
     "text": [
      "✅ Extracted and saved 2000000 rows to C:\\Users\\ginika.umego\\Downloads\\CC_LCL-Sample.csv\n"
     ]
    }
   ],
   "source": [
    "# Load only the first 2 million rows\n",
    "chunk_size = 2_000_000  # 2 million rows\n",
    "df_sample = pd.read_csv(full_data_path, nrows=chunk_size)\n",
    "\n",
    "# Save the extracted data to a new CSV file\n",
    "df_sample.to_csv(sample_data_path, index=False)\n",
    "\n",
    "print(f\"✅ Extracted and saved {chunk_size} rows to {sample_data_path}\")"
   ]
  },
  {
   "cell_type": "markdown",
   "id": "271f24d7",
   "metadata": {},
   "source": [
    "## **3️⃣ Loading the Sample Dataset into Pandas**\n",
    "\n",
    "### **Checking the Extracted Data**\n",
    "Before performing SQL operations, let's verify the dataset structure."
   ]
  },
  {
   "cell_type": "code",
   "execution_count": 3,
   "id": "1d14f1da",
   "metadata": {},
   "outputs": [
    {
     "name": "stdout",
     "output_type": "stream",
     "text": [
      "<class 'pandas.core.frame.DataFrame'>\n",
      "RangeIndex: 2000000 entries, 0 to 1999999\n",
      "Data columns (total 4 columns):\n",
      " #   Column            Dtype \n",
      "---  ------            ----- \n",
      " 0   HouseholdID       object\n",
      " 1   TariffType        object\n",
      " 2   Timestamp         object\n",
      " 3   MeterReading_kWh  object\n",
      "dtypes: object(4)\n",
      "memory usage: 61.0+ MB\n",
      "None\n"
     ]
    },
    {
     "data": {
      "text/html": [
       "<div>\n",
       "<style scoped>\n",
       "    .dataframe tbody tr th:only-of-type {\n",
       "        vertical-align: middle;\n",
       "    }\n",
       "\n",
       "    .dataframe tbody tr th {\n",
       "        vertical-align: top;\n",
       "    }\n",
       "\n",
       "    .dataframe thead th {\n",
       "        text-align: right;\n",
       "    }\n",
       "</style>\n",
       "<table border=\"1\" class=\"dataframe\">\n",
       "  <thead>\n",
       "    <tr style=\"text-align: right;\">\n",
       "      <th></th>\n",
       "      <th>HouseholdID</th>\n",
       "      <th>TariffType</th>\n",
       "      <th>Timestamp</th>\n",
       "      <th>MeterReading_kWh</th>\n",
       "    </tr>\n",
       "  </thead>\n",
       "  <tbody>\n",
       "    <tr>\n",
       "      <th>0</th>\n",
       "      <td>MAC000002</td>\n",
       "      <td>Std</td>\n",
       "      <td>2012-10-12 00:30:00.0000000</td>\n",
       "      <td>0</td>\n",
       "    </tr>\n",
       "    <tr>\n",
       "      <th>1</th>\n",
       "      <td>MAC000002</td>\n",
       "      <td>Std</td>\n",
       "      <td>2012-10-12 01:00:00.0000000</td>\n",
       "      <td>0</td>\n",
       "    </tr>\n",
       "    <tr>\n",
       "      <th>2</th>\n",
       "      <td>MAC000002</td>\n",
       "      <td>Std</td>\n",
       "      <td>2012-10-12 01:30:00.0000000</td>\n",
       "      <td>0</td>\n",
       "    </tr>\n",
       "    <tr>\n",
       "      <th>3</th>\n",
       "      <td>MAC000002</td>\n",
       "      <td>Std</td>\n",
       "      <td>2012-10-12 02:00:00.0000000</td>\n",
       "      <td>0</td>\n",
       "    </tr>\n",
       "    <tr>\n",
       "      <th>4</th>\n",
       "      <td>MAC000002</td>\n",
       "      <td>Std</td>\n",
       "      <td>2012-10-12 02:30:00.0000000</td>\n",
       "      <td>0</td>\n",
       "    </tr>\n",
       "  </tbody>\n",
       "</table>\n",
       "</div>"
      ],
      "text/plain": [
       "  HouseholdID TariffType                    Timestamp MeterReading_kWh\n",
       "0   MAC000002        Std  2012-10-12 00:30:00.0000000               0 \n",
       "1   MAC000002        Std  2012-10-12 01:00:00.0000000               0 \n",
       "2   MAC000002        Std  2012-10-12 01:30:00.0000000               0 \n",
       "3   MAC000002        Std  2012-10-12 02:00:00.0000000               0 \n",
       "4   MAC000002        Std  2012-10-12 02:30:00.0000000               0 "
      ]
     },
     "execution_count": 3,
     "metadata": {},
     "output_type": "execute_result"
    }
   ],
   "source": [
    "# Load the sample dataset\n",
    "df_sample = pd.read_csv(sample_data_path)\n",
    "\n",
    "# Ensure column names are stripped of extra spaces\n",
    "df_sample.columns = df_sample.columns.str.strip()\n",
    "\n",
    "# Rename columns for clarity\n",
    "df_sample.rename(columns={\n",
    "    \"LCLid\": \"HouseholdID\",\n",
    "    \"stdorToU\": \"TariffType\",\n",
    "    \"DateTime\": \"Timestamp\",\n",
    "    \"KWH/hh (per half hour)\": \"MeterReading_kWh\"\n",
    "}, inplace=True)\n",
    "\n",
    "# Display dataset information\n",
    "print(df_sample.info())  # Check column types & missing values\n",
    "\n",
    "# Show the first 5 rows\n",
    "df_sample.head()"
   ]
  },
  {
   "cell_type": "markdown",
   "id": "c7c07596",
   "metadata": {},
   "source": [
    "## **4️⃣ Connecting Jupyter Notebook to SQLite**\n",
    "\n",
    "### **Setting Up SQLite**\n",
    "We use the built-in Python module `sqlite3` to:\n",
    "- Create a SQLite database (`MeteringData.db`).\n",
    "- Store the extracted metering dataset.\n",
    "- Perform SQL queries directly in Jupyter Notebook."
   ]
  },
  {
   "cell_type": "code",
   "execution_count": 4,
   "id": "691e728b",
   "metadata": {
    "scrolled": true
   },
   "outputs": [
    {
     "name": "stdout",
     "output_type": "stream",
     "text": [
      "✅ SQLite database created and connected successfully!\n"
     ]
    }
   ],
   "source": [
    "import sqlite3\n",
    "\n",
    "# Define SQLite database file path\n",
    "db_path = r\"C:\\Users\\ginika.umego\\Downloads\\MeteringData.db\"\n",
    "\n",
    "# Create a database connection\n",
    "conn = sqlite3.connect(db_path)\n",
    "\n",
    "print(\"✅ SQLite database created and connected successfully!\")"
   ]
  },
  {
   "cell_type": "markdown",
   "id": "361f7c7c",
   "metadata": {},
   "source": [
    "## **5️⃣ Creating a Table in SQLite**\n",
    "\n",
    "### **Defining the Table Schema**\n",
    "We create a **SmartMeterReadings** table with the following structure:\n",
    "- `ID` (Primary Key, Auto-increment)\n",
    "- `HouseholdID` (Unique household identifier)\n",
    "- `DateTime` (Date & Time of the meter reading, stored as TEXT)\n",
    "- `MeterReading` (Energy consumption in kWh)"
   ]
  },
  {
   "cell_type": "code",
   "execution_count": 5,
   "id": "3121f81a",
   "metadata": {},
   "outputs": [
    {
     "name": "stdout",
     "output_type": "stream",
     "text": [
      "✅ Table 'SmartMeterReadings' created successfully!\n"
     ]
    }
   ],
   "source": [
    "# Create a cursor object\n",
    "cursor = conn.cursor()\n",
    "\n",
    "# Define table schema\n",
    "create_table_query = \"\"\"\n",
    "CREATE TABLE IF NOT EXISTS SmartMeterReadings (\n",
    "    ID INTEGER PRIMARY KEY AUTOINCREMENT,\n",
    "    HouseholdID TEXT,\n",
    "    TariffType TEXT,\n",
    "    Timestamp TEXT,\n",
    "    MeterReading_kWh REAL\n",
    ");\n",
    "\"\"\"\n",
    "\n",
    "# Execute the query\n",
    "cursor.execute(create_table_query)\n",
    "conn.commit()\n",
    "\n",
    "print(\"✅ Table 'SmartMeterReadings' created successfully!\")"
   ]
  },
  {
   "cell_type": "markdown",
   "id": "8ad49630",
   "metadata": {},
   "source": [
    "## **6️⃣ Inserting Data into SQLite**"
   ]
  },
  {
   "cell_type": "markdown",
   "id": "e6b76906",
   "metadata": {},
   "source": [
    "### **Bulk Inserting the 2 Million Records**\n",
    "Using Pandas' `.to_sql()` method, we efficiently insert all the data into SQLite."
   ]
  },
  {
   "cell_type": "code",
   "execution_count": 6,
   "id": "0df472d4",
   "metadata": {},
   "outputs": [
    {
     "name": "stdout",
     "output_type": "stream",
     "text": [
      "✅ Successfully loaded 2000000 records into SQLite!\n"
     ]
    }
   ],
   "source": [
    "# Convert Timestamp column to string format (for SQLite)\n",
    "df_sample[\"Timestamp\"] = pd.to_datetime(df_sample[\"Timestamp\"]).astype(str)\n",
    "\n",
    "# Insert data into SQLite\n",
    "df_sample.to_sql(\"SmartMeterReadings\", conn, if_exists=\"replace\", index=False)\n",
    "\n",
    "print(f\"✅ Successfully loaded {len(df_sample)} records into SQLite!\")"
   ]
  },
  {
   "cell_type": "markdown",
   "id": "da8d6a0e",
   "metadata": {},
   "source": [
    "## **7️⃣ Querying Data for Analysis**\n",
    "\n",
    "### **Verifying Data in SQLite**\n",
    "Let's check if the data is correctly stored by retrieving the first 5 records.\n"
   ]
  },
  {
   "cell_type": "code",
   "execution_count": 7,
   "id": "5c08bdb3",
   "metadata": {},
   "outputs": [
    {
     "data": {
      "text/html": [
       "<div>\n",
       "<style scoped>\n",
       "    .dataframe tbody tr th:only-of-type {\n",
       "        vertical-align: middle;\n",
       "    }\n",
       "\n",
       "    .dataframe tbody tr th {\n",
       "        vertical-align: top;\n",
       "    }\n",
       "\n",
       "    .dataframe thead th {\n",
       "        text-align: right;\n",
       "    }\n",
       "</style>\n",
       "<table border=\"1\" class=\"dataframe\">\n",
       "  <thead>\n",
       "    <tr style=\"text-align: right;\">\n",
       "      <th></th>\n",
       "      <th>HouseholdID</th>\n",
       "      <th>TariffType</th>\n",
       "      <th>Timestamp</th>\n",
       "      <th>MeterReading_kWh</th>\n",
       "    </tr>\n",
       "  </thead>\n",
       "  <tbody>\n",
       "    <tr>\n",
       "      <th>0</th>\n",
       "      <td>MAC000002</td>\n",
       "      <td>Std</td>\n",
       "      <td>2012-10-12 00:30:00</td>\n",
       "      <td>0</td>\n",
       "    </tr>\n",
       "    <tr>\n",
       "      <th>1</th>\n",
       "      <td>MAC000002</td>\n",
       "      <td>Std</td>\n",
       "      <td>2012-10-12 01:00:00</td>\n",
       "      <td>0</td>\n",
       "    </tr>\n",
       "    <tr>\n",
       "      <th>2</th>\n",
       "      <td>MAC000002</td>\n",
       "      <td>Std</td>\n",
       "      <td>2012-10-12 01:30:00</td>\n",
       "      <td>0</td>\n",
       "    </tr>\n",
       "    <tr>\n",
       "      <th>3</th>\n",
       "      <td>MAC000002</td>\n",
       "      <td>Std</td>\n",
       "      <td>2012-10-12 02:00:00</td>\n",
       "      <td>0</td>\n",
       "    </tr>\n",
       "    <tr>\n",
       "      <th>4</th>\n",
       "      <td>MAC000002</td>\n",
       "      <td>Std</td>\n",
       "      <td>2012-10-12 02:30:00</td>\n",
       "      <td>0</td>\n",
       "    </tr>\n",
       "  </tbody>\n",
       "</table>\n",
       "</div>"
      ],
      "text/plain": [
       "  HouseholdID TariffType            Timestamp MeterReading_kWh\n",
       "0   MAC000002        Std  2012-10-12 00:30:00               0 \n",
       "1   MAC000002        Std  2012-10-12 01:00:00               0 \n",
       "2   MAC000002        Std  2012-10-12 01:30:00               0 \n",
       "3   MAC000002        Std  2012-10-12 02:00:00               0 \n",
       "4   MAC000002        Std  2012-10-12 02:30:00               0 "
      ]
     },
     "execution_count": 7,
     "metadata": {},
     "output_type": "execute_result"
    }
   ],
   "source": [
    "# Define a SQL query\n",
    "query = \"SELECT * FROM SmartMeterReadings LIMIT 5;\"\n",
    "\n",
    "# Execute Query & Load results into Pandas\n",
    "df_sql = pd.read_sql(query, conn)\n",
    "\n",
    "# Display the results\n",
    "df_sql"
   ]
  },
  {
   "cell_type": "markdown",
   "id": "94409dc1",
   "metadata": {},
   "source": [
    "## **8️⃣ Next Steps for Deeper Insights**\n",
    "\n",
    "Now that our data is stored in SQLite, we can perform further analysis:\n",
    "- **SQL-Based Analysis**: Aggregating energy consumption data.\n",
    "- **Weekly & Monthly Reports**: Understanding customer energy patterns.\n",
    "- **Python Visualizations**: Using Matplotlib & Seaborn to generate insights.\n",
    "\n",
    "Let's proceed with analysis!"
   ]
  },
  {
   "cell_type": "markdown",
   "id": "84b5b6a1",
   "metadata": {},
   "source": [
    "## 📌 9️⃣ Data Validation & Cleaning\n",
    "\n",
    "Before analysis, we check for inconsistencies, missing values, duplicate records, and ensure data types are correct.\n",
    "\n",
    "🔹 Checking for Missing Values & Duplicates"
   ]
  },
  {
   "cell_type": "code",
   "execution_count": 8,
   "id": "9d41e0af",
   "metadata": {},
   "outputs": [
    {
     "data": {
      "text/html": [
       "<div>\n",
       "<style scoped>\n",
       "    .dataframe tbody tr th:only-of-type {\n",
       "        vertical-align: middle;\n",
       "    }\n",
       "\n",
       "    .dataframe tbody tr th {\n",
       "        vertical-align: top;\n",
       "    }\n",
       "\n",
       "    .dataframe thead th {\n",
       "        text-align: right;\n",
       "    }\n",
       "</style>\n",
       "<table border=\"1\" class=\"dataframe\">\n",
       "  <thead>\n",
       "    <tr style=\"text-align: right;\">\n",
       "      <th></th>\n",
       "      <th>Missing_HouseholdID</th>\n",
       "      <th>Missing_TariffType</th>\n",
       "      <th>Missing_Timestamp</th>\n",
       "      <th>Missing_MeterReading</th>\n",
       "    </tr>\n",
       "  </thead>\n",
       "  <tbody>\n",
       "    <tr>\n",
       "      <th>0</th>\n",
       "      <td>0</td>\n",
       "      <td>0</td>\n",
       "      <td>0</td>\n",
       "      <td>0</td>\n",
       "    </tr>\n",
       "  </tbody>\n",
       "</table>\n",
       "</div>"
      ],
      "text/plain": [
       "   Missing_HouseholdID  Missing_TariffType  Missing_Timestamp  \\\n",
       "0                    0                   0                  0   \n",
       "\n",
       "   Missing_MeterReading  \n",
       "0                     0  "
      ]
     },
     "execution_count": 8,
     "metadata": {},
     "output_type": "execute_result"
    }
   ],
   "source": [
    "query = \"\"\"\n",
    "SELECT \n",
    "    SUM(CASE WHEN HouseholdID IS NULL OR HouseholdID = '' THEN 1 ELSE 0 END) AS Missing_HouseholdID,\n",
    "    SUM(CASE WHEN TariffType IS NULL OR TariffType = '' THEN 1 ELSE 0 END) AS Missing_TariffType,\n",
    "    SUM(CASE WHEN Timestamp IS NULL OR Timestamp = '' THEN 1 ELSE 0 END) AS Missing_Timestamp,\n",
    "    SUM(CASE WHEN MeterReading_kWh IS NULL THEN 1 ELSE 0 END) AS Missing_MeterReading\n",
    "FROM SmartMeterReadings;\n",
    "\"\"\"\n",
    "\n",
    "df_missing = pd.read_sql(query, conn)\n",
    "df_missing\n"
   ]
  },
  {
   "cell_type": "markdown",
   "id": "c07ec0d1",
   "metadata": {},
   "source": [
    "## 📌 1️⃣0️⃣ Checking for Duplicates\n",
    "\n",
    "Duplicate records can cause incorrect analysis. We'll check for duplicates based on HouseholdID and Timestamp because each household should have unique meter readings at any given time.\n",
    "\n",
    "🔹 SQL Query to Identify Duplicates\n"
   ]
  },
  {
   "cell_type": "code",
   "execution_count": 9,
   "id": "d27b6ba3",
   "metadata": {
    "scrolled": true
   },
   "outputs": [
    {
     "data": {
      "text/html": [
       "<div>\n",
       "<style scoped>\n",
       "    .dataframe tbody tr th:only-of-type {\n",
       "        vertical-align: middle;\n",
       "    }\n",
       "\n",
       "    .dataframe tbody tr th {\n",
       "        vertical-align: top;\n",
       "    }\n",
       "\n",
       "    .dataframe thead th {\n",
       "        text-align: right;\n",
       "    }\n",
       "</style>\n",
       "<table border=\"1\" class=\"dataframe\">\n",
       "  <thead>\n",
       "    <tr style=\"text-align: right;\">\n",
       "      <th></th>\n",
       "      <th>HouseholdID</th>\n",
       "      <th>Timestamp</th>\n",
       "      <th>DuplicateCount</th>\n",
       "    </tr>\n",
       "  </thead>\n",
       "  <tbody>\n",
       "    <tr>\n",
       "      <th>0</th>\n",
       "      <td>MAC000002</td>\n",
       "      <td>2012-10-20 00:00:00</td>\n",
       "      <td>2</td>\n",
       "    </tr>\n",
       "    <tr>\n",
       "      <th>1</th>\n",
       "      <td>MAC000002</td>\n",
       "      <td>2012-11-20 00:00:00</td>\n",
       "      <td>2</td>\n",
       "    </tr>\n",
       "    <tr>\n",
       "      <th>2</th>\n",
       "      <td>MAC000002</td>\n",
       "      <td>2012-12-21 00:00:00</td>\n",
       "      <td>2</td>\n",
       "    </tr>\n",
       "    <tr>\n",
       "      <th>3</th>\n",
       "      <td>MAC000002</td>\n",
       "      <td>2013-01-21 00:00:00</td>\n",
       "      <td>2</td>\n",
       "    </tr>\n",
       "    <tr>\n",
       "      <th>4</th>\n",
       "      <td>MAC000002</td>\n",
       "      <td>2013-02-21 00:00:00</td>\n",
       "      <td>2</td>\n",
       "    </tr>\n",
       "    <tr>\n",
       "      <th>...</th>\n",
       "      <td>...</td>\n",
       "      <td>...</td>\n",
       "      <td>...</td>\n",
       "    </tr>\n",
       "    <tr>\n",
       "      <th>1374</th>\n",
       "      <td>MAC000069</td>\n",
       "      <td>2012-12-21 00:00:00</td>\n",
       "      <td>2</td>\n",
       "    </tr>\n",
       "    <tr>\n",
       "      <th>1375</th>\n",
       "      <td>MAC000069</td>\n",
       "      <td>2013-01-21 00:00:00</td>\n",
       "      <td>2</td>\n",
       "    </tr>\n",
       "    <tr>\n",
       "      <th>1376</th>\n",
       "      <td>MAC000069</td>\n",
       "      <td>2013-02-21 00:00:00</td>\n",
       "      <td>2</td>\n",
       "    </tr>\n",
       "    <tr>\n",
       "      <th>1377</th>\n",
       "      <td>MAC000069</td>\n",
       "      <td>2013-03-24 00:00:00</td>\n",
       "      <td>2</td>\n",
       "    </tr>\n",
       "    <tr>\n",
       "      <th>1378</th>\n",
       "      <td>MAC000069</td>\n",
       "      <td>2013-04-24 00:00:00</td>\n",
       "      <td>2</td>\n",
       "    </tr>\n",
       "  </tbody>\n",
       "</table>\n",
       "<p>1379 rows × 3 columns</p>\n",
       "</div>"
      ],
      "text/plain": [
       "     HouseholdID            Timestamp  DuplicateCount\n",
       "0      MAC000002  2012-10-20 00:00:00               2\n",
       "1      MAC000002  2012-11-20 00:00:00               2\n",
       "2      MAC000002  2012-12-21 00:00:00               2\n",
       "3      MAC000002  2013-01-21 00:00:00               2\n",
       "4      MAC000002  2013-02-21 00:00:00               2\n",
       "...          ...                  ...             ...\n",
       "1374   MAC000069  2012-12-21 00:00:00               2\n",
       "1375   MAC000069  2013-01-21 00:00:00               2\n",
       "1376   MAC000069  2013-02-21 00:00:00               2\n",
       "1377   MAC000069  2013-03-24 00:00:00               2\n",
       "1378   MAC000069  2013-04-24 00:00:00               2\n",
       "\n",
       "[1379 rows x 3 columns]"
      ]
     },
     "execution_count": 9,
     "metadata": {},
     "output_type": "execute_result"
    }
   ],
   "source": [
    "query = \"\"\"\n",
    "SELECT HouseholdID, Timestamp, COUNT(*) AS DuplicateCount\n",
    "FROM SmartMeterReadings\n",
    "GROUP BY HouseholdID, Timestamp\n",
    "HAVING COUNT(*) > 1;\n",
    "\"\"\"\n",
    "\n",
    "df_duplicates = pd.read_sql(query, conn)\n",
    "df_duplicates"
   ]
  },
  {
   "cell_type": "markdown",
   "id": "28cf62a2",
   "metadata": {},
   "source": [
    "## 📌 1️⃣1️⃣ Removing Duplicate Records\n",
    "If duplicates exist, we need to remove them while keeping only one unique record.\n",
    "\n",
    "🔹 Delete Duplicate Records"
   ]
  },
  {
   "cell_type": "code",
   "execution_count": 10,
   "id": "c2e83e24",
   "metadata": {},
   "outputs": [],
   "source": [
    "cursor.execute(\"\"\"\n",
    "DELETE FROM SmartMeterReadings \n",
    "WHERE rowid NOT IN (\n",
    "    SELECT MIN(rowid) \n",
    "    FROM SmartMeterReadings \n",
    "    GROUP BY HouseholdID, Timestamp\n",
    ");\n",
    "\"\"\")\n",
    "conn.commit()\n"
   ]
  },
  {
   "cell_type": "markdown",
   "id": "93116d0f",
   "metadata": {},
   "source": [
    "## 📌 1️⃣2️⃣ Analyzing Energy Consumption Trends\n",
    "\n",
    "Now that our data is clean, let’s explore energy consumption patterns over time."
   ]
  },
  {
   "cell_type": "markdown",
   "id": "3057023f",
   "metadata": {},
   "source": [
    "### 🔹 12.1: Checking Overall Energy Consumption\n",
    "First, we calculate the total energy consumption across all households."
   ]
  },
  {
   "cell_type": "code",
   "execution_count": 11,
   "id": "e17c2981",
   "metadata": {},
   "outputs": [
    {
     "data": {
      "text/html": [
       "<div>\n",
       "<style scoped>\n",
       "    .dataframe tbody tr th:only-of-type {\n",
       "        vertical-align: middle;\n",
       "    }\n",
       "\n",
       "    .dataframe tbody tr th {\n",
       "        vertical-align: top;\n",
       "    }\n",
       "\n",
       "    .dataframe thead th {\n",
       "        text-align: right;\n",
       "    }\n",
       "</style>\n",
       "<table border=\"1\" class=\"dataframe\">\n",
       "  <thead>\n",
       "    <tr style=\"text-align: right;\">\n",
       "      <th></th>\n",
       "      <th>Total_Consumption</th>\n",
       "    </tr>\n",
       "  </thead>\n",
       "  <tbody>\n",
       "    <tr>\n",
       "      <th>0</th>\n",
       "      <td>477921.89</td>\n",
       "    </tr>\n",
       "  </tbody>\n",
       "</table>\n",
       "</div>"
      ],
      "text/plain": [
       "   Total_Consumption\n",
       "0          477921.89"
      ]
     },
     "execution_count": 11,
     "metadata": {},
     "output_type": "execute_result"
    }
   ],
   "source": [
    "query = \"\"\"\n",
    "SELECT SUM(MeterReading_kWh) AS Total_Consumption \n",
    "FROM SmartMeterReadings;\n",
    "\"\"\"\n",
    "\n",
    "df_total_consumption = round(pd.read_sql(query, conn), 2)\n",
    "df_total_consumption"
   ]
  },
  {
   "cell_type": "markdown",
   "id": "d9564845",
   "metadata": {},
   "source": [
    "✅ This gives the total energy consumed in kWh to be **477921.89**.\n"
   ]
  },
  {
   "cell_type": "markdown",
   "id": "58b55d42",
   "metadata": {},
   "source": [
    "### 🔹 12.2: Energy Consumption Over Time\n",
    "Next, let’s analyze the total consumption per day to identify trends."
   ]
  },
  {
   "cell_type": "code",
   "execution_count": 12,
   "id": "80c6f821",
   "metadata": {},
   "outputs": [
    {
     "name": "stdout",
     "output_type": "stream",
     "text": [
      "             Timestamp        Date  Daily_Consumption\n",
      "0  2011-12-06 13:00:00  2011-12-06           2.947000\n",
      "1  2011-12-07 00:00:00  2011-12-07         143.174000\n",
      "2  2011-12-08 00:00:00  2011-12-08         365.577000\n",
      "3  2011-12-09 00:00:00  2011-12-09         502.532000\n",
      "4  2011-12-10 00:00:00  2011-12-10         637.385000\n",
      "5  2011-12-11 00:00:00  2011-12-11         670.710001\n",
      "6  2011-12-12 00:00:00  2011-12-12         614.313000\n",
      "7  2011-12-13 00:00:00  2011-12-13         570.259000\n",
      "8  2011-12-14 00:00:00  2011-12-14         627.398000\n",
      "9  2011-12-15 00:00:00  2011-12-15         633.742001\n"
     ]
    }
   ],
   "source": [
    "query = \"\"\"\n",
    "SELECT Timestamp, DATE(Timestamp) AS Date, \n",
    "       SUM(MeterReading_kWh) AS Daily_Consumption\n",
    "FROM SmartMeterReadings\n",
    "GROUP BY Date\n",
    "ORDER BY Date;\n",
    "\"\"\"\n",
    "df_daily_consumption = pd.read_sql(query, conn)\n",
    "\n",
    "# ✅ Check the first few records\n",
    "print(df_daily_consumption.head(10))\n"
   ]
  },
  {
   "cell_type": "code",
   "execution_count": 13,
   "id": "c4be9101",
   "metadata": {
    "scrolled": true
   },
   "outputs": [
    {
     "data": {
      "image/png": "[encoded data removed]",
      "text/plain": [
       "<Figure size 1000x400 with 1 Axes>"
      ]
     },
     "metadata": {},
     "output_type": "display_data"
    }
   ],
   "source": [
    "import matplotlib.dates as mdates\n",
    "import matplotlib.pyplot as plt\n",
    "\n",
    "# ✅ Ensure Date column is datetime\n",
    "df_daily_consumption[\"Date\"] = pd.to_datetime(df_daily_consumption[\"Date\"])\n",
    "\n",
    "plt.figure(figsize=(10, 4))\n",
    "plt.plot(df_daily_consumption[\"Date\"], df_daily_consumption[\"Daily_Consumption\"], marker='o', linestyle='-')\n",
    "\n",
    "# ✅ Show only a few x-axis labels (Monthly or Quarterly)\n",
    "plt.gca().xaxis.set_major_locator(mdates.MonthLocator(interval=2))  # Show every 3 months\n",
    "plt.gca().xaxis.set_major_formatter(mdates.DateFormatter('%Y-%m'))  # Format as YYYY-MM\n",
    "\n",
    "plt.xticks(rotation=45, ha='right')  # Rotate for better visibility\n",
    "plt.xlabel(\"Date (YYYY-MM)\")\n",
    "plt.ylabel(\"Energy Consumption (kWh)\")\n",
    "plt.title(\"Daily Energy Consumption Trend\")\n",
    "plt.grid(True)\n",
    "plt.show()\n"
   ]
  },
  {
   "cell_type": "markdown",
   "id": "32c91342",
   "metadata": {},
   "source": [
    "## 📌 Interpretation of the Daily Energy Consumption Trend\n",
    "\n",
    "The plot displays the daily energy consumption trend over time based on the dataset being analyzed. Below are key observations:\n",
    "\n",
    "### 🔹 General Consumption Pattern:\n",
    "- The trend shows **seasonal variations** in energy consumption.\n",
    "- There are **two distinct peaks** where energy usage rises significantly, suggesting a pattern related to seasonal changes or external factors (e.g., weather conditions, holidays).\n",
    "\n",
    "### 🔹 Initial Increase (2012 – Early 2013):\n",
    "- Energy consumption starts at a moderate level in **early 2012** and gradually increases.\n",
    "- The **first peak** appears around **late 2012 to early 2013**, which could be due to colder months when heating devices are used more frequently.\n",
    "\n",
    "### 🔹 Mid-2013 Dip and Second Peak (Late 2013 – Early 2014):\n",
    "- There is a decline in consumption around mid-2013.\n",
    "- Another **sharp increase** occurs in late 2013 to early 2014, resembling the first peak.\n",
    "- This again aligns with colder months, possibly reflecting **winter heating demands**.\n",
    "\n",
    "### 🔹 Sharp Drop at the End (2014):\n",
    "- The drastic drop at the end of the chart might indicate:\n",
    "  - **Data collection issues** (e.g., missing or incomplete data).\n",
    "  - **Households reducing energy consumption**.\n",
    "  - **Structural changes** like new policies, energy-efficient appliances, or fewer active meters.\n",
    "\n",
    "### 🔹 Periodic Pattern Suggestion:\n",
    "- The repeating rise and fall suggest a **seasonal trend**, which could be validated by comparing **monthly or seasonal averages**.\n"
   ]
  },
  {
   "cell_type": "markdown",
   "id": "90f98261",
   "metadata": {},
   "source": [
    "### 🔹 12.3: Hourly Energy Usage\n",
    "We can also analyze average energy consumption per hour to detect peak usage periods."
   ]
  },
  {
   "cell_type": "code",
   "execution_count": 14,
   "id": "5293f286",
   "metadata": {},
   "outputs": [],
   "source": [
    "query = \"\"\"\n",
    "SELECT strftime('%H', Timestamp) AS Hour, AVG(MeterReading_kWh) AS Avg_Consumption\n",
    "FROM SmartMeterReadings\n",
    "GROUP BY Hour\n",
    "ORDER BY Hour;\n",
    "\"\"\"\n",
    "\n",
    "df_hourly = pd.read_sql(query, conn)"
   ]
  },
  {
   "cell_type": "code",
   "execution_count": 15,
   "id": "421bc5cd",
   "metadata": {
    "scrolled": true
   },
   "outputs": [
    {
     "data": {
      "image/png": "[encoded data removed]",
      "text/plain": [
       "<Figure size 1000x400 with 1 Axes>"
      ]
     },
     "metadata": {},
     "output_type": "display_data"
    }
   ],
   "source": [
    "import seaborn as sns\n",
    "\n",
    "# Set style\n",
    "sns.set_style(\"whitegrid\")\n",
    "\n",
    "# Plot Hourly Consumption\n",
    "plt.figure(figsize=(10, 4))\n",
    "sns.barplot(data=df_hourly, x=\"Hour\", y=\"Avg_Consumption\", palette=\"viridis\")\n",
    "\n",
    "plt.xlabel(\"Hour of the Day\")\n",
    "plt.ylabel(\"Average Energy Consumption (kWh)\")\n",
    "plt.title(\"Hourly Energy Consumption Pattern\")\n",
    "plt.xticks(rotation=0)\n",
    "plt.grid(axis=\"y\", linestyle=\"--\", alpha=0.7)\n",
    "\n",
    "plt.show()\n"
   ]
  },
  {
   "cell_type": "markdown",
   "id": "08a1beec",
   "metadata": {},
   "source": [
    "## 📌 Interpretation of the Hourly Energy Consumption Pattern\n",
    "\n",
    "The bar chart illustrates the **average energy consumption (kWh) per hour of the day** based on the dataset being analyzed. Below are key observations:\n",
    "\n",
    "### 🔹 Energy Usage During Different Periods:\n",
    "\n",
    "1️⃣ **Late Night to Early Morning (00:00 - 06:00)**  \n",
    "   - Energy consumption is **moderately high at midnight** but gradually **declines** through the early morning hours.\n",
    "   - This is expected as most households reduce energy usage while people are asleep.\n",
    "\n",
    "2️⃣ **Morning Hours (06:00 - 12:00)**  \n",
    "   - There is a **gradual increase in consumption** starting from **06:00**, likely due to morning activities such as cooking, heating, and getting ready for the day.\n",
    "   - By **09:00 - 12:00**, energy consumption stabilizes.\n",
    "\n",
    "3️⃣ **Afternoon to Evening Peak (12:00 - 21:00)**  \n",
    "   - **Energy consumption steadily rises in the afternoon**, peaking between **17:00 - 20:00**.\n",
    "   - This is the **highest usage period**, possibly due to:\n",
    "     - Increased household activities after work or school.\n",
    "     - Cooking dinner, using appliances, and entertainment (TV, computers, lights).\n",
    "     - Heating or cooling systems being used more in the evening.\n",
    "\n",
    "4️⃣ **Late Evening Decline (21:00 - 23:00)**  \n",
    "   - After **21:00**, energy usage **starts to decline**, following typical nighttime routines where non-essential appliances are turned off before sleep.\n",
    "\n",
    "### 🔹 Key Takeaways:\n",
    "- The pattern suggests **higher energy demand in the evening hours**, likely due to human activity schedules.\n",
    "- **Low consumption during early morning hours** aligns with periods of rest.\n",
    "- This trend could help in:\n",
    "  - **Load balancing** for electricity providers.\n",
    "  - **Energy-saving recommendations** for households.\n",
    "  - Identifying peak demand hours for **better tariff planning**.\n",
    "\n"
   ]
  },
  {
   "cell_type": "markdown",
   "id": "3ad44f16",
   "metadata": {},
   "source": [
    "## 📌 1️⃣3️⃣ Energy Consumption by Household Type\n",
    "\n",
    "\n",
    "Now, let's compare energy consumption by household type"
   ]
  },
  {
   "cell_type": "code",
   "execution_count": 16,
   "id": "e9f87454",
   "metadata": {},
   "outputs": [
    {
     "data": {
      "text/html": [
       "<div>\n",
       "<style scoped>\n",
       "    .dataframe tbody tr th:only-of-type {\n",
       "        vertical-align: middle;\n",
       "    }\n",
       "\n",
       "    .dataframe tbody tr th {\n",
       "        vertical-align: top;\n",
       "    }\n",
       "\n",
       "    .dataframe thead th {\n",
       "        text-align: right;\n",
       "    }\n",
       "</style>\n",
       "<table border=\"1\" class=\"dataframe\">\n",
       "  <thead>\n",
       "    <tr style=\"text-align: right;\">\n",
       "      <th></th>\n",
       "      <th>TariffType</th>\n",
       "      <th>Total_Consumption</th>\n",
       "      <th>Avg_Consumption</th>\n",
       "    </tr>\n",
       "  </thead>\n",
       "  <tbody>\n",
       "    <tr>\n",
       "      <th>0</th>\n",
       "      <td>Std</td>\n",
       "      <td>477921.886983</td>\n",
       "      <td>0.239126</td>\n",
       "    </tr>\n",
       "  </tbody>\n",
       "</table>\n",
       "</div>"
      ],
      "text/plain": [
       "  TariffType  Total_Consumption  Avg_Consumption\n",
       "0        Std      477921.886983         0.239126"
      ]
     },
     "execution_count": 16,
     "metadata": {},
     "output_type": "execute_result"
    }
   ],
   "source": [
    "# Define SQL Query\n",
    "query = \"\"\"\n",
    "SELECT TariffType, \n",
    "       SUM(MeterReading_kWh) AS Total_Consumption,\n",
    "       AVG(MeterReading_kWh) AS Avg_Consumption\n",
    "FROM SmartMeterReadings\n",
    "GROUP BY TariffType\n",
    "ORDER BY Total_Consumption DESC;\n",
    "\"\"\"\n",
    "\n",
    "# Execute Query\n",
    "df_tariff_consumption = pd.read_sql(query, conn)\n",
    "\n",
    "# Display results\n",
    "df_tariff_consumption\n"
   ]
  },
  {
   "cell_type": "code",
   "execution_count": 17,
   "id": "0bca233d",
   "metadata": {
    "scrolled": true
   },
   "outputs": [
    {
     "data": {
      "image/png": "[encoded data removed]",
      "text/plain": [
       "<Figure size 1000x400 with 1 Axes>"
      ]
     },
     "metadata": {},
     "output_type": "display_data"
    }
   ],
   "source": [
    "# Set figure size\n",
    "plt.figure(figsize=(10, 4))\n",
    "\n",
    "# Create bar plot\n",
    "sns.barplot(x=\"TariffType\", y=\"Total_Consumption\", data=df_tariff_consumption, palette=\"Blues\")\n",
    "\n",
    "# Labels and title\n",
    "plt.xlabel(\"Household Tariff Type\")\n",
    "plt.ylabel(\"Total Energy Consumption (kWh)\")\n",
    "plt.title(\"Total Energy Consumption by Household Type\")\n",
    "\n",
    "# Show plot\n",
    "plt.show()"
   ]
  },
  {
   "cell_type": "markdown",
   "id": "1d3a2883",
   "metadata": {},
   "source": [
    "## 📌 Interpretation of Total Energy Consumption by Household Type\n",
    "\n",
    "This bar chart represents the **total energy consumption (kWh) across different household tariff types** in the dataset.\n",
    "\n",
    "### 🔹 Key Observations:\n",
    "1️⃣ The **\"Std\" (Standard) household tariff type** is the only category shown in the dataset.  \n",
    "2️⃣ The total energy consumption for this category is **slightly above 500,000 kWh**.\n",
    "3️⃣ There are **no other household tariff types** displayed, suggesting that either:\n",
    "   - The dataset primarily consists of standard household customers.\n",
    "   - Other tariff types were filtered out or not present in the dataset.\n",
    "\n",
    "### 🔹 Implications:\n",
    "- If multiple household tariff types exist but are not appearing in the visualization, **data validation** should be performed to confirm completeness.\n",
    "- The **total energy consumption by tariff type** can help **electricity providers analyze consumption trends** and plan for different customer categories.\n",
    "- Further analysis could compare:\n",
    "  - Different **tariff structures** (e.g., standard vs. time-of-use pricing).\n",
    "  - **High vs. low consumption households** within the standard category.\n"
   ]
  },
  {
   "cell_type": "markdown",
   "id": "9f585efa",
   "metadata": {},
   "source": [
    "## 📌 1️⃣4️⃣ Weekday vs. Weekend Energy Consumption Analysis\n",
    "\n",
    "Now, let's compare energy consumption on weekdays vs. weekends to identify any significant differences in usage patterns."
   ]
  },
  {
   "cell_type": "markdown",
   "id": "1b19fea5",
   "metadata": {},
   "source": [
    "### 🔹 1️⃣ Categorize Days as Weekday or Weekend\n",
    "\n",
    "To do this, we will:\n",
    "- ✔ Extract the day of the week from Timestamp.\n",
    "- ✔ Classify each day as Weekday (Monday–Friday) or Weekend (Saturday–Sunday).\n",
    "- ✔ Calculate total energy consumption for each category."
   ]
  },
  {
   "cell_type": "code",
   "execution_count": 18,
   "id": "795f72a9",
   "metadata": {},
   "outputs": [
    {
     "data": {
      "text/html": [
       "<div>\n",
       "<style scoped>\n",
       "    .dataframe tbody tr th:only-of-type {\n",
       "        vertical-align: middle;\n",
       "    }\n",
       "\n",
       "    .dataframe tbody tr th {\n",
       "        vertical-align: top;\n",
       "    }\n",
       "\n",
       "    .dataframe thead th {\n",
       "        text-align: right;\n",
       "    }\n",
       "</style>\n",
       "<table border=\"1\" class=\"dataframe\">\n",
       "  <thead>\n",
       "    <tr style=\"text-align: right;\">\n",
       "      <th></th>\n",
       "      <th>Day_Type</th>\n",
       "      <th>Total_Consumption</th>\n",
       "    </tr>\n",
       "  </thead>\n",
       "  <tbody>\n",
       "    <tr>\n",
       "      <th>0</th>\n",
       "      <td>Weekday</td>\n",
       "      <td>340329.160990</td>\n",
       "    </tr>\n",
       "    <tr>\n",
       "      <th>1</th>\n",
       "      <td>Weekend</td>\n",
       "      <td>137592.725993</td>\n",
       "    </tr>\n",
       "  </tbody>\n",
       "</table>\n",
       "</div>"
      ],
      "text/plain": [
       "  Day_Type  Total_Consumption\n",
       "0  Weekday      340329.160990\n",
       "1  Weekend      137592.725993"
      ]
     },
     "execution_count": 18,
     "metadata": {},
     "output_type": "execute_result"
    }
   ],
   "source": [
    "# Query to compare weekday vs. weekend consumption\n",
    "query = \"\"\"\n",
    "SELECT \n",
    "    CASE \n",
    "        WHEN strftime('%w', Timestamp) IN ('0', '6') THEN 'Weekend'\n",
    "        ELSE 'Weekday'\n",
    "    END AS Day_Type,\n",
    "    SUM(MeterReading_kWh) AS Total_Consumption\n",
    "FROM SmartMeterReadings\n",
    "GROUP BY Day_Type;\n",
    "\"\"\"\n",
    "\n",
    "# Execute query and load results into DataFrame\n",
    "df_weekday_vs_weekend = pd.read_sql(query, conn)\n",
    "\n",
    "# Display first few rows\n",
    "df_weekday_vs_weekend.head()\n"
   ]
  },
  {
   "cell_type": "code",
   "execution_count": 19,
   "id": "a5e5ba55",
   "metadata": {
    "scrolled": true
   },
   "outputs": [
    {
     "data": {
      "image/png": "[encoded data removed]",
      "text/plain": [
       "<Figure size 600x400 with 1 Axes>"
      ]
     },
     "metadata": {},
     "output_type": "display_data"
    }
   ],
   "source": [
    "# Set style\n",
    "sns.set_style(\"whitegrid\")\n",
    "\n",
    "# Plot Weekday vs. Weekend Consumption\n",
    "plt.figure(figsize=(6, 4))\n",
    "sns.barplot(data=df_weekday_vs_weekend, x=\"Day_Type\", y=\"Total_Consumption\", palette=\"coolwarm\")\n",
    "\n",
    "plt.xlabel(\"Day Type\")\n",
    "plt.ylabel(\"Total Energy Consumption (kWh)\")\n",
    "plt.title(\"Energy Consumption: Weekday vs. Weekend\")\n",
    "plt.grid(axis=\"y\", linestyle=\"--\", alpha=0.7)\n",
    "\n",
    "plt.show()"
   ]
  },
  {
   "cell_type": "markdown",
   "id": "ed192aa6",
   "metadata": {},
   "source": [
    "## 📊 Energy Consumption: Weekday vs. Weekend\n",
    "\n",
    "This bar chart compares the **total energy consumption (kWh) on weekdays versus weekends**.\n",
    "\n",
    "### 🔹 Key Observations:\n",
    "1️⃣ **Higher energy consumption on weekdays** compared to weekends.\n",
    "   - Weekday consumption exceeds **300,000 kWh**.\n",
    "   - Weekend consumption is significantly lower, around **150,000 kWh**.\n",
    "   \n",
    "2️⃣ The difference suggests that:\n",
    "   - **More energy is used during the workweek**, likely due to higher household and commercial activities.\n",
    "   - **Lower energy demand on weekends**, possibly due to reduced industrial/commercial use or altered household routines.\n",
    "\n",
    "### 🔹 Implications:\n",
    "- **Grid Load Management**: Electricity providers may need to allocate **more resources during weekdays**.\n",
    "- **Time-of-Use Pricing**: Encouraging **off-peak energy use on weekends** could balance demand.\n",
    "- **Household Behavior**: Further investigation into **peak usage hours** for weekdays vs. weekends could provide deeper insights.\n",
    "\n"
   ]
  },
  {
   "cell_type": "markdown",
   "id": "e27f9354",
   "metadata": {},
   "source": [
    "## 📌 1️⃣5️⃣ Monthly Energy Consumption Trends\n",
    "\n",
    "Now, let's analyze how energy consumption varies across different months to identify seasonal patterns.\n",
    "\n",
    "To do this, we will:\n",
    "- ✔ Extract the month and year from Timestamp.\n",
    "- ✔ Aggregate total energy consumption for each month."
   ]
  },
  {
   "cell_type": "code",
   "execution_count": 20,
   "id": "1e7432a2",
   "metadata": {},
   "outputs": [
    {
     "data": {
      "text/html": [
       "<div>\n",
       "<style scoped>\n",
       "    .dataframe tbody tr th:only-of-type {\n",
       "        vertical-align: middle;\n",
       "    }\n",
       "\n",
       "    .dataframe tbody tr th {\n",
       "        vertical-align: top;\n",
       "    }\n",
       "\n",
       "    .dataframe thead th {\n",
       "        text-align: right;\n",
       "    }\n",
       "</style>\n",
       "<table border=\"1\" class=\"dataframe\">\n",
       "  <thead>\n",
       "    <tr style=\"text-align: right;\">\n",
       "      <th></th>\n",
       "      <th>Month</th>\n",
       "      <th>Total_Consumption</th>\n",
       "    </tr>\n",
       "  </thead>\n",
       "  <tbody>\n",
       "    <tr>\n",
       "      <th>0</th>\n",
       "      <td>2011-12</td>\n",
       "      <td>14427.284001</td>\n",
       "    </tr>\n",
       "    <tr>\n",
       "      <th>1</th>\n",
       "      <td>2012-01</td>\n",
       "      <td>19669.911996</td>\n",
       "    </tr>\n",
       "    <tr>\n",
       "      <th>2</th>\n",
       "      <td>2012-02</td>\n",
       "      <td>19596.414993</td>\n",
       "    </tr>\n",
       "    <tr>\n",
       "      <th>3</th>\n",
       "      <td>2012-03</td>\n",
       "      <td>17422.531002</td>\n",
       "    </tr>\n",
       "    <tr>\n",
       "      <th>4</th>\n",
       "      <td>2012-04</td>\n",
       "      <td>16140.549997</td>\n",
       "    </tr>\n",
       "  </tbody>\n",
       "</table>\n",
       "</div>"
      ],
      "text/plain": [
       "     Month  Total_Consumption\n",
       "0  2011-12       14427.284001\n",
       "1  2012-01       19669.911996\n",
       "2  2012-02       19596.414993\n",
       "3  2012-03       17422.531002\n",
       "4  2012-04       16140.549997"
      ]
     },
     "execution_count": 20,
     "metadata": {},
     "output_type": "execute_result"
    }
   ],
   "source": [
    "# Query to get monthly energy consumption\n",
    "query = \"\"\"\n",
    "SELECT \n",
    "    strftime('%Y-%m', Timestamp) AS Month,\n",
    "    SUM(MeterReading_kWh) AS Total_Consumption\n",
    "FROM SmartMeterReadings\n",
    "GROUP BY Month\n",
    "ORDER BY Month;\n",
    "\"\"\"\n",
    "\n",
    "# Execute query and load results into DataFrame\n",
    "df_monthly_consumption = pd.read_sql(query, conn)\n",
    "\n",
    "# Display first few rows\n",
    "df_monthly_consumption.head()"
   ]
  },
  {
   "cell_type": "code",
   "execution_count": 21,
   "id": "4c3e3fa2",
   "metadata": {
    "scrolled": true
   },
   "outputs": [
    {
     "data": {
      "image/png": "[encoded data removed]",
      "text/plain": [
       "<Figure size 1000x400 with 1 Axes>"
      ]
     },
     "metadata": {},
     "output_type": "display_data"
    }
   ],
   "source": [
    "# Set style\n",
    "sns.set_style(\"whitegrid\")\n",
    "\n",
    "# Plot Monthly Consumption\n",
    "plt.figure(figsize=(10, 4))\n",
    "sns.lineplot(data=df_monthly_consumption, x=\"Month\", y=\"Total_Consumption\", marker='o', linestyle='-')\n",
    "\n",
    "plt.xticks(rotation=45)\n",
    "plt.xlabel(\"Month\")\n",
    "plt.ylabel(\"Total Energy Consumption (kWh)\")\n",
    "plt.title(\"Monthly Energy Consumption Trend\")\n",
    "plt.grid(axis=\"y\", linestyle=\"--\", alpha=0.7)\n",
    "\n",
    "plt.show()"
   ]
  },
  {
   "cell_type": "markdown",
   "id": "fe031ff0",
   "metadata": {},
   "source": [
    "## 📈 Monthly Energy Consumption Trend\n",
    "\n",
    "This line chart illustrates the **monthly energy consumption (kWh) over time**, highlighting seasonal patterns and fluctuations.\n",
    "\n",
    "### 🔹 Key Observations:\n",
    "1️⃣ **Clear seasonal fluctuations** in energy consumption.\n",
    "   - Consumption peaks around **December – January** each year.\n",
    "   - Lowest consumption occurs around **June – August**.\n",
    "\n",
    "2️⃣ **Possible explanations for trends**:\n",
    "   - **Winter months (Dec–Jan) show higher consumption**, likely due to increased heating and indoor activities.\n",
    "   - **Summer months (June–Aug) show lower consumption**, possibly due to reduced heating needs and more outdoor activities.\n",
    "\n",
    "3️⃣ **Repeating annual pattern** suggests a predictable **seasonal energy demand cycle**.\n",
    "\n",
    "### 🔹 Implications:\n",
    "- **Energy providers can plan for peak demand periods** by optimizing grid capacity.\n",
    "- **Consumers may benefit from energy-saving strategies during peak months**.\n",
    "- **Further analysis on temperature and appliance usage** could provide deeper insights into the consumption patterns.\n",
    "\n"
   ]
  },
  {
   "cell_type": "markdown",
   "id": "ca137afa",
   "metadata": {},
   "source": [
    "## 📌 1️⃣6️⃣ Top 10 Highest Energy-Consuming Households\n",
    "\n",
    "Now, let's identify the top 10 households that consume the most energy to understand high-usage patterns.\n",
    "\n",
    "To do this, we will:\n",
    "- ✔ Group by HouseholdID.\n",
    "- ✔ Sum up the total energy consumption.\n",
    "- ✔ Sort in descending order and get the top 10."
   ]
  },
  {
   "cell_type": "code",
   "execution_count": 22,
   "id": "dcd5b8fb",
   "metadata": {},
   "outputs": [
    {
     "data": {
      "text/html": [
       "<div>\n",
       "<style scoped>\n",
       "    .dataframe tbody tr th:only-of-type {\n",
       "        vertical-align: middle;\n",
       "    }\n",
       "\n",
       "    .dataframe tbody tr th {\n",
       "        vertical-align: top;\n",
       "    }\n",
       "\n",
       "    .dataframe thead th {\n",
       "        text-align: right;\n",
       "    }\n",
       "</style>\n",
       "<table border=\"1\" class=\"dataframe\">\n",
       "  <thead>\n",
       "    <tr style=\"text-align: right;\">\n",
       "      <th></th>\n",
       "      <th>HouseholdID</th>\n",
       "      <th>Total_Consumption</th>\n",
       "    </tr>\n",
       "  </thead>\n",
       "  <tbody>\n",
       "    <tr>\n",
       "      <th>0</th>\n",
       "      <td>MAC000049</td>\n",
       "      <td>30087.095999</td>\n",
       "    </tr>\n",
       "    <tr>\n",
       "      <th>1</th>\n",
       "      <td>MAC000034</td>\n",
       "      <td>22101.949995</td>\n",
       "    </tr>\n",
       "    <tr>\n",
       "      <th>2</th>\n",
       "      <td>MAC000040</td>\n",
       "      <td>21677.450002</td>\n",
       "    </tr>\n",
       "    <tr>\n",
       "      <th>3</th>\n",
       "      <td>MAC000035</td>\n",
       "      <td>18464.294997</td>\n",
       "    </tr>\n",
       "    <tr>\n",
       "      <th>4</th>\n",
       "      <td>MAC000021</td>\n",
       "      <td>18311.923001</td>\n",
       "    </tr>\n",
       "    <tr>\n",
       "      <th>5</th>\n",
       "      <td>MAC000024</td>\n",
       "      <td>16922.364994</td>\n",
       "    </tr>\n",
       "    <tr>\n",
       "      <th>6</th>\n",
       "      <td>MAC000045</td>\n",
       "      <td>16826.256003</td>\n",
       "    </tr>\n",
       "    <tr>\n",
       "      <th>7</th>\n",
       "      <td>MAC000068</td>\n",
       "      <td>15692.739999</td>\n",
       "    </tr>\n",
       "    <tr>\n",
       "      <th>8</th>\n",
       "      <td>MAC000059</td>\n",
       "      <td>14244.750001</td>\n",
       "    </tr>\n",
       "    <tr>\n",
       "      <th>9</th>\n",
       "      <td>MAC000003</td>\n",
       "      <td>14080.862003</td>\n",
       "    </tr>\n",
       "  </tbody>\n",
       "</table>\n",
       "</div>"
      ],
      "text/plain": [
       "  HouseholdID  Total_Consumption\n",
       "0   MAC000049       30087.095999\n",
       "1   MAC000034       22101.949995\n",
       "2   MAC000040       21677.450002\n",
       "3   MAC000035       18464.294997\n",
       "4   MAC000021       18311.923001\n",
       "5   MAC000024       16922.364994\n",
       "6   MAC000045       16826.256003\n",
       "7   MAC000068       15692.739999\n",
       "8   MAC000059       14244.750001\n",
       "9   MAC000003       14080.862003"
      ]
     },
     "execution_count": 22,
     "metadata": {},
     "output_type": "execute_result"
    }
   ],
   "source": [
    "# Query to get top 10 highest energy-consuming households\n",
    "query = \"\"\"\n",
    "SELECT \n",
    "    HouseholdID,\n",
    "    SUM(MeterReading_kWh) AS Total_Consumption\n",
    "FROM SmartMeterReadings\n",
    "GROUP BY HouseholdID\n",
    "ORDER BY Total_Consumption DESC\n",
    "LIMIT 10;\n",
    "\"\"\"\n",
    "\n",
    "# Execute query and load results into DataFrame\n",
    "df_top_households = pd.read_sql(query, conn)\n",
    "\n",
    "# Display results\n",
    "df_top_households\n"
   ]
  },
  {
   "cell_type": "code",
   "execution_count": 23,
   "id": "072cbf9f",
   "metadata": {
    "scrolled": false
   },
   "outputs": [
    {
     "data": {
      "image/png": "[encoded data removed]",
      "text/plain": [
       "<Figure size 600x300 with 1 Axes>"
      ]
     },
     "metadata": {},
     "output_type": "display_data"
    }
   ],
   "source": [
    "\n",
    "# Set style\n",
    "sns.set_style(\"whitegrid\")\n",
    "\n",
    "# Plot Top 10 Households\n",
    "plt.figure(figsize=(6, 3))\n",
    "sns.barplot(data=df_top_households, x=\"HouseholdID\", y=\"Total_Consumption\", palette=\"viridis\")\n",
    "\n",
    "plt.xticks(rotation=45)\n",
    "plt.xlabel(\"Household ID\")\n",
    "plt.ylabel(\"Total Energy Consumption (kWh)\")\n",
    "plt.title(\"Top 10 Highest Energy-Consuming Households\")\n",
    "plt.grid(axis=\"y\", linestyle=\"--\", alpha=0.7)\n",
    "\n",
    "plt.show()\n"
   ]
  },
  {
   "cell_type": "markdown",
   "id": "58305e01",
   "metadata": {},
   "source": [
    "## 🏠 Top 10 Highest Energy-Consuming Households\n",
    "\n",
    "This bar chart visualizes the **top 10 households with the highest total energy consumption (kWh)** over the analysis period.\n",
    "\n",
    "### 🔹 Key Observations:\n",
    "1️⃣ **Household \"MAC000049\" has the highest energy consumption**, exceeding **30,000 kWh**.\n",
    "2️⃣ The top 3 households (**MAC000049, MAC000034, and MAC000040**) have significantly higher consumption than the rest.\n",
    "3️⃣ The **energy usage gradually declines** across the remaining households, with **MAC000003 having the lowest among the top 10**.\n",
    "\n",
    "### 🔹 Possible Explanations:\n",
    "- **Larger household sizes** could contribute to higher energy usage.\n",
    "- **Usage of high-energy appliances** (e.g., HVAC, electric heaters, industrial equipment) may be a factor.\n",
    "- **Different energy efficiency behaviors** among households.\n",
    "\n",
    "### 🔹 Implications:\n",
    "- **Identifying high-consumption households can help with energy-saving initiatives.**\n",
    "- **Targeted recommendations** (e.g., energy-efficient appliances, smart meters) could optimize consumption.\n",
    "- **Further analysis** on energy consumption patterns per household type may provide deeper insights.\n",
    "\n"
   ]
  },
  {
   "cell_type": "markdown",
   "id": "e6a4c8c0",
   "metadata": {},
   "source": [
    "## 📌 1️⃣7️⃣ Distribution of Energy Consumption Across Households\n",
    "\n",
    "Now, let’s examine how energy consumption is distributed across all households to identify patterns, outliers, or imbalances in usage.\n",
    "\n",
    "To do this, we will:\n",
    "- ✔ Group by HouseholdID.\n",
    "- ✔ Sum up total energy consumption per household."
   ]
  },
  {
   "cell_type": "code",
   "execution_count": 24,
   "id": "579aa012",
   "metadata": {},
   "outputs": [
    {
     "data": {
      "text/html": [
       "<div>\n",
       "<style scoped>\n",
       "    .dataframe tbody tr th:only-of-type {\n",
       "        vertical-align: middle;\n",
       "    }\n",
       "\n",
       "    .dataframe tbody tr th {\n",
       "        vertical-align: top;\n",
       "    }\n",
       "\n",
       "    .dataframe thead th {\n",
       "        text-align: right;\n",
       "    }\n",
       "</style>\n",
       "<table border=\"1\" class=\"dataframe\">\n",
       "  <thead>\n",
       "    <tr style=\"text-align: right;\">\n",
       "      <th></th>\n",
       "      <th>HouseholdID</th>\n",
       "      <th>Total_Consumption</th>\n",
       "    </tr>\n",
       "  </thead>\n",
       "  <tbody>\n",
       "    <tr>\n",
       "      <th>0</th>\n",
       "      <td>MAC000037</td>\n",
       "      <td>65.303</td>\n",
       "    </tr>\n",
       "    <tr>\n",
       "      <th>1</th>\n",
       "      <td>MAC000016</td>\n",
       "      <td>533.736</td>\n",
       "    </tr>\n",
       "    <tr>\n",
       "      <th>2</th>\n",
       "      <td>MAC000012</td>\n",
       "      <td>1086.383</td>\n",
       "    </tr>\n",
       "    <tr>\n",
       "      <th>3</th>\n",
       "      <td>MAC000004</td>\n",
       "      <td>1119.839</td>\n",
       "    </tr>\n",
       "    <tr>\n",
       "      <th>4</th>\n",
       "      <td>MAC000006</td>\n",
       "      <td>2167.448</td>\n",
       "    </tr>\n",
       "  </tbody>\n",
       "</table>\n",
       "</div>"
      ],
      "text/plain": [
       "  HouseholdID  Total_Consumption\n",
       "0   MAC000037             65.303\n",
       "1   MAC000016            533.736\n",
       "2   MAC000012           1086.383\n",
       "3   MAC000004           1119.839\n",
       "4   MAC000006           2167.448"
      ]
     },
     "execution_count": 24,
     "metadata": {},
     "output_type": "execute_result"
    }
   ],
   "source": [
    "# Query to get energy consumption for all households\n",
    "query = \"\"\"\n",
    "SELECT \n",
    "    HouseholdID,\n",
    "    SUM(MeterReading_kWh) AS Total_Consumption\n",
    "FROM SmartMeterReadings\n",
    "GROUP BY HouseholdID\n",
    "ORDER BY Total_Consumption;\n",
    "\"\"\"\n",
    "\n",
    "# Execute query and load results into DataFrame\n",
    "df_household_distribution = pd.read_sql(query, conn)\n",
    "\n",
    "# Display first few rows\n",
    "df_household_distribution.head()\n"
   ]
  },
  {
   "cell_type": "code",
   "execution_count": 25,
   "id": "63a54254",
   "metadata": {
    "scrolled": false
   },
   "outputs": [
    {
     "data": {
      "image/png": "[encoded data removed]",
      "text/plain": [
       "<Figure size 1000x300 with 1 Axes>"
      ]
     },
     "metadata": {},
     "output_type": "display_data"
    }
   ],
   "source": [
    "# Set style\n",
    "sns.set_style(\"whitegrid\")\n",
    "\n",
    "# Plot Energy Consumption Distribution\n",
    "plt.figure(figsize=(10, 3))\n",
    "sns.histplot(df_household_distribution[\"Total_Consumption\"], bins=50, kde=True, color=\"royalblue\")\n",
    "\n",
    "plt.xlabel(\"Total Energy Consumption (kWh)\")\n",
    "plt.ylabel(\"Number of Households\")\n",
    "plt.title(\"Distribution of Household Energy Consumption\")\n",
    "plt.grid(axis=\"y\", linestyle=\"--\", alpha=0.7)\n",
    "\n",
    "plt.show()\n"
   ]
  },
  {
   "cell_type": "markdown",
   "id": "98812838",
   "metadata": {},
   "source": [
    "## 📊 Distribution of Household Energy Consumption\n",
    "\n",
    "This histogram displays the **distribution of total energy consumption (kWh) across households**, with a KDE (Kernel Density Estimation) line overlayed.\n",
    "\n",
    "### 🔹 Key Insights:\n",
    "1️⃣ **Right-skewed distribution**: The majority of households consume between **2,000 – 10,000 kWh**, with fewer consuming above **15,000 kWh**.  \n",
    "2️⃣ **A few extreme high-energy consumers**: Some households exceed **20,000 – 30,000 kWh**, suggesting potential outliers or high-usage patterns.  \n",
    "3️⃣ **Peak around 5,000 kWh**: This suggests a common energy consumption range for most households.  \n",
    "\n",
    "### 🔹 Possible Explanations:\n",
    "- **Standard household appliances and behavior** keep most consumers within a normal range.\n",
    "- **Outliers may indicate energy-intensive activities**, such as large appliances, industrial use, or inefficient consumption.\n",
    "- **Energy-saving habits or smart devices** may play a role in reducing energy use for some households.\n",
    "\n",
    "### 🔹 Implications:\n",
    "- **Target high-energy consumers** for energy efficiency initiatives.\n",
    "- **Identify households with potential energy wastage** and suggest interventions.\n",
    "- **Further breakdown of data** (e.g., household size, appliance usage) could provide deeper insights.\n",
    "\n"
   ]
  },
  {
   "cell_type": "markdown",
   "id": "f03faf4d",
   "metadata": {},
   "source": [
    "## 📌 1️⃣8️⃣ Discussion on Visualizations and Insights  \n",
    "\n",
    "### 🔹 1. Monthly Energy Consumption Trend  \n",
    "The **monthly energy consumption trend** visualization highlights significant fluctuations in energy usage over time. Key observations include:  \n",
    "\n",
    "- **Seasonal variation**: Energy consumption tends to peak towards the end of the year (December) and drops in mid-year (June–July).  \n",
    "- **Cyclical patterns**: Repeated high consumption periods suggest external influences, such as **seasonal temperature changes or household behavioral patterns**.  \n",
    "- **Potential anomalies**: Some months exhibit extreme spikes, indicating possible external events or inefficiencies in energy use.  \n",
    "\n",
    "📌 **Implication:**  \n",
    "Understanding these trends can help in **forecasting future energy demand**, identifying opportunities for energy-saving interventions, and optimizing power distribution strategies.  \n",
    "\n",
    "---\n",
    "\n",
    "### 🔹 2. Top 10 Highest Energy-Consuming Households  \n",
    "The **bar chart of the highest energy-consuming households** identifies specific households with exceptionally high energy usage.  \n",
    "\n",
    "- **Household MAC00049** is the largest consumer, significantly surpassing others.  \n",
    "- **The top three households consume more than 25,000 kWh**, which is well above the average.  \n",
    "- **Consumption gradually decreases** among the top 10 but remains consistently high.  \n",
    "\n",
    "📌 **Implication:**  \n",
    "- **Targeted intervention** for high-energy consumers to improve efficiency and reduce waste.  \n",
    "- **Potential need for audits or energy efficiency recommendations** for these households.  \n",
    "- **Further investigation** into what factors drive such high consumption (e.g., number of occupants, appliances, or wasteful practices).  \n",
    "\n",
    "---\n",
    "\n",
    "### 🔹 3. Distribution of Household Energy Consumption  \n",
    "The **histogram and KDE plot** display the overall distribution of household energy consumption, revealing:  \n",
    "\n",
    "- A **right-skewed distribution**, with most households consuming between **2,000 – 10,000 kWh** annually.  \n",
    "- A **long tail with extreme consumers** exceeding **20,000 kWh**, suggesting outliers.  \n",
    "- A **peak around 5,000 kWh**, indicating the most common household consumption level.  \n",
    "\n",
    "📌 **Implication:**  \n",
    "- **Most households fall within a predictable energy range**, which can aid in setting average benchmarks.  \n",
    "- **High-energy consumers may need targeted strategies** to reduce consumption and promote energy efficiency.  \n",
    "- **Further segmentation (e.g., by household size, appliance type, or income level)** could provide deeper insights into consumption behavior.  \n",
    "\n",
    "---\n",
    "\n",
    "## 🔍 Final Insights & Recommendations  \n",
    "✅ **Seasonal trends in energy usage** suggest opportunities for demand forecasting and efficiency programs.  \n",
    "✅ **Identifying high-consuming households** can help in creating targeted interventions to reduce waste and optimize energy usage.  \n",
    "✅ **The overall distribution indicates a common consumption range**, but outliers need further analysis to understand underlying causes.  \n",
    " \n"
   ]
  },
  {
   "cell_type": "code",
   "execution_count": null,
   "id": "8bbe27cc",
   "metadata": {},
   "outputs": [],
   "source": []
  }
 ],
 "metadata": {
  "kernelspec": {
   "display_name": "Python 3 (ipykernel)",
   "language": "python",
   "name": "python3"
  },
  "language_info": {
   "codemirror_mode": {
    "name": "ipython",
    "version": 3
   },
   "file_extension": ".py",
   "mimetype": "text/x-python",
   "name": "python",
   "nbconvert_exporter": "python",
   "pygments_lexer": "ipython3",
   "version": "3.9.13"
  }
 },
 "nbformat": 4,
 "nbformat_minor": 5
}
